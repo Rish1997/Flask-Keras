{
 "cells": [
  {
   "cell_type": "markdown",
   "metadata": {},
   "source": [
    "# Importing Statements"
   ]
  },
  {
   "cell_type": "code",
   "execution_count": 1,
   "metadata": {},
   "outputs": [
    {
     "name": "stderr",
     "output_type": "stream",
     "text": [
      "/home/rishabh/.conda/envs/py27/lib/python2.7/site-packages/h5py/__init__.py:34: FutureWarning: Conversion of the second argument of issubdtype from `float` to `np.floating` is deprecated. In future, it will be treated as `np.float64 == np.dtype(float).type`.\n",
      "  from ._conv import register_converters as _register_converters\n",
      "Using TensorFlow backend.\n"
     ]
    }
   ],
   "source": [
    "import flask\n",
    "import keras\n",
    "import pandas as pd\n",
    "import numpy as np\n",
    "from keras.models import load_model\n"
   ]
  },
  {
   "cell_type": "markdown",
   "metadata": {},
   "source": [
    "# Loading Model"
   ]
  },
  {
   "cell_type": "code",
   "execution_count": 2,
   "metadata": {},
   "outputs": [
    {
     "name": "stderr",
     "output_type": "stream",
     "text": [
      "/home/rishabh/.conda/envs/py27/lib/python2.7/site-packages/keras/models.py:291: UserWarning: Error in loading the saved optimizer state. As a result, your model is starting with a freshly initialized optimizer.\n",
      "  warnings.warn('Error in loading the saved optimizer '\n"
     ]
    }
   ],
   "source": [
    "model = load_model('./model_1L_5N_20180125.h5')"
   ]
  },
  {
   "cell_type": "markdown",
   "metadata": {},
   "source": [
    "# Some Methods for data transformation"
   ]
  },
  {
   "cell_type": "code",
   "execution_count": 3,
   "metadata": {
    "collapsed": true
   },
   "outputs": [],
   "source": [
    "def feature_scaling(matrix):                #this is the normalization step\n",
    "    X_max = np.max(matrix, axis=0)\n",
    "    X_min = np.min(matrix, axis=0)\n",
    "    return (matrix - X_min)/(X_max - X_min)\n",
    "\n",
    "def standardardize(matrix):\n",
    "    mu = np.mean(matrix, axis=0)\n",
    "    sigma = np.std(matrix, axis=0)\n",
    "    return (matrix - mu)/sigma\n",
    "\n",
    "def inverse_feature_scaling(matrix, scaled_matrix):\n",
    "    return (scaled_matrix*(np.max(matrix['Crude Oil']) - np.min(matrix['Crude Oil'])))+np.min(matrix['Crude Oil'])"
   ]
  },
  {
   "cell_type": "markdown",
   "metadata": {
    "collapsed": true
   },
   "source": [
    "# Importing Data and Setting it up"
   ]
  },
  {
   "cell_type": "code",
   "execution_count": 4,
   "metadata": {
    "collapsed": true
   },
   "outputs": [],
   "source": [
    "df = pd.read_csv('eia_cleaned.csv')\n",
    "df['Date'] = pd.to_datetime(df['Date'])\n",
    "df = df.set_index('Date')\n",
    "data_frame = df.sort_index(axis=1 ,ascending=True)\n",
    "data_frame = df.iloc[::-1]\n",
    "split_date = pd.Timestamp('01-01-2015')\n",
    "train = data_frame.loc[:split_date]\n",
    "test = data_frame.loc[split_date:]"
   ]
  },
  {
   "cell_type": "markdown",
   "metadata": {},
   "source": [
    "# Function for Modifying for Desirable Input"
   ]
  },
  {
   "cell_type": "code",
   "execution_count": 29,
   "metadata": {
    "collapsed": true
   },
   "outputs": [],
   "source": [
    "def findMaxMin(matrix):\n",
    "    X_max = np.max(matrix, axis=0)\n",
    "    X_min = np.min(matrix, axis=0)\n",
    "    #print([X_max , X_min])\n",
    "    return [X_max , X_min]\n",
    "\n",
    "def findNormalizedValues(inputValues):\n",
    "    #inputValues = inputValues.set_index('Date')\n",
    "    print(inputValues)\n",
    "    minMaxValues = findMaxMin(data_frame)\n",
    "    print(minMaxValues[0])\n",
    "    print(minMaxValues[1])\n",
    "    return (inputValues - minMaxValues[1])/(minMaxValues[0] - minMaxValues[1])"
   ]
  },
  {
   "cell_type": "code",
   "execution_count": 30,
   "metadata": {},
   "outputs": [
    {
     "name": "stdout",
     "output_type": "stream",
     "text": [
      "[63.9, 2.141, 1.889, 11932, 11734]\n",
      "Crude Oil         145.290\n",
      "Heating Oil         4.106\n",
      "RBOB Regular        3.571\n",
      "Supply          18350.000\n",
      "Demand          19083.000\n",
      "dtype: float64\n",
      "Crude Oil          26.210\n",
      "Heating Oil         0.866\n",
      "RBOB Regular        0.793\n",
      "Supply          11075.000\n",
      "Demand          11530.000\n",
      "dtype: float64\n"
     ]
    },
    {
     "data": {
      "text/plain": [
       "Crude Oil       0.316510\n",
       "Heating Oil     0.393519\n",
       "RBOB Regular    0.394528\n",
       "Supply          0.117801\n",
       "Demand          0.027009\n",
       "dtype: float64"
      ]
     },
     "execution_count": 30,
     "metadata": {},
     "output_type": "execute_result"
    }
   ],
   "source": [
    "#print(train)\n",
    "findNormalizedValues([63.90 , 2.141 , 1.889 , 11932 , 11734 ])"
   ]
  },
  {
   "cell_type": "code",
   "execution_count": 34,
   "metadata": {},
   "outputs": [],
   "source": [
    "from flask import request , Flask\n",
    "\n",
    "app = Flask(__name__)\n",
    "@app.route('/predict', methods=['POST'])\n",
    "def predict():\n",
    "    data = request.form['data']\n",
    "    y_pred = model.predict(findNormalizedValues(data))\n",
    "    return '''\n",
    "        <form method=\"post\">\n",
    "            <H1> y_pred </H1>\n",
    "        </form>\n",
    "    '''\n",
    "    "
   ]
  },
  {
   "cell_type": "code",
   "execution_count": 36,
   "metadata": {},
   "outputs": [
    {
     "name": "stdout",
     "output_type": "stream",
     "text": [
      "[63.9, 2.141, 1.889, 11932, 11734]\n",
      "Crude Oil         145.290\n",
      "Heating Oil         4.106\n",
      "RBOB Regular        3.571\n",
      "Supply          18350.000\n",
      "Demand          19083.000\n",
      "dtype: float64\n",
      "Crude Oil          26.210\n",
      "Heating Oil         0.866\n",
      "RBOB Regular        0.793\n",
      "Supply          11075.000\n",
      "Demand          11530.000\n",
      "dtype: float64\n"
     ]
    },
    {
     "data": {
      "text/plain": [
       "Crude Oil       0.316510\n",
       "Heating Oil     0.393519\n",
       "RBOB Regular    0.394528\n",
       "Supply          0.117801\n",
       "Demand          0.027009\n",
       "dtype: float64"
      ]
     },
     "execution_count": 36,
     "metadata": {},
     "output_type": "execute_result"
    }
   ],
   "source": [
    "findNormalizedValues([63.90 , 2.141 , 1.889 , 11932 , 11734 ])"
   ]
  },
  {
   "cell_type": "code",
   "execution_count": null,
   "metadata": {
    "collapsed": true
   },
   "outputs": [],
   "source": []
  }
 ],
 "metadata": {
  "kernelspec": {
   "display_name": "Python 2",
   "language": "python",
   "name": "python2"
  },
  "language_info": {
   "codemirror_mode": {
    "name": "ipython",
    "version": 2
   },
   "file_extension": ".py",
   "mimetype": "text/x-python",
   "name": "python",
   "nbconvert_exporter": "python",
   "pygments_lexer": "ipython2",
   "version": "2.7.13"
  }
 },
 "nbformat": 4,
 "nbformat_minor": 2
}
